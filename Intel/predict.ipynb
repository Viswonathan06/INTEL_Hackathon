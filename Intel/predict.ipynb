{
 "cells": [
  {
   "cell_type": "code",
   "execution_count": 17,
   "metadata": {},
   "outputs": [],
   "source": [
    "import pandas as pd\n",
    "import os\n",
    "features = {'E':'EXTRAVERSION_Z', 'N':'NEGATIVEEMOTIONALITY_Z','A':'AGREEABLENESS_Z','C':'CONSCIENTIOUSNESS_Z','I':'interview','O':'OPENMINDEDNESS_Z'}\n",
    "\n",
    "def process_files(path = './predictions'):\n",
    "    interview = pd.DataFrame()\n",
    "    pred = pd.DataFrame()\n",
    "    for files in os.listdir(path):\n",
    "        # print(files)\n",
    "        temp = pd.read_csv(os.path.join(path, files))\n",
    "        # print(temp.columns)\n",
    "        temp.drop('Unnamed: 0', inplace=True, axis = 1)\n",
    "        interview = pd.concat([interview, temp.pop('0.1')], axis = 1)\n",
    "        OCEAN_val = files.split('.')[0].split('_')[1]\n",
    "        temp.columns = [features[OCEAN_val]]\n",
    "        pred = pd.concat([pred, temp], axis = 1)\n",
    "        # print(temp.head())\n",
    "    return pred, interview\n",
    "    \n",
    "\n",
    "\n",
    "    "
   ]
  },
  {
   "cell_type": "code",
   "execution_count": 72,
   "metadata": {},
   "outputs": [],
   "source": [
    "def append_interview_value(interview, pred):\n",
    "    mean= interview.mean( axis=1)\n",
    "    mean.columns = ['interview']\n",
    "    print(mean)\n",
    "    new_cols =  list(pred.columns)\n",
    "\n",
    "    pred = pd.concat([pred, mean], axis = 1)\n",
    "    new_cols.append('interview')\n",
    "    pred.columns = new_cols\n",
    "    return pred"
   ]
  },
  {
   "cell_type": "code",
   "execution_count": 103,
   "metadata": {},
   "outputs": [],
   "source": [
    "def calculate_accuracy(pred, ground_path = './Extracted Features/bert_audi_faci_test.csv'):\n",
    "    ground = pd.read_csv(ground_path)\n",
    "    # print(ground)\n",
    "    cols = list(features.values())\n",
    "    ground = ground[cols]\n",
    "    pred = pred[cols]\n",
    "    # print(ground)\n",
    "    # print(pred)\n",
    "    sub = ground.subtract(pred)\n",
    "    df = sub.mul(sub)\n",
    "    df = df.mean(axis = 1)\n",
    "    print(df.mean())\n",
    "\n",
    "    \n"
   ]
  },
  {
   "cell_type": "code",
   "execution_count": 104,
   "metadata": {},
   "outputs": [
    {
     "name": "stdout",
     "output_type": "stream",
     "text": [
      "0.2635059180026463\n"
     ]
    }
   ],
   "source": [
    "if __name__ == '__main__':\n",
    "    pred, interview = process_files()\n",
    "    final_pred = append_interview_value(interview, pred)\n",
    "    calculate_accuracy(final_pred)"
   ]
  },
  {
   "cell_type": "code",
   "execution_count": 43,
   "metadata": {},
   "outputs": [],
   "source": []
  },
  {
   "cell_type": "code",
   "execution_count": 44,
   "metadata": {},
   "outputs": [
    {
     "data": {
      "text/html": [
       "<div>\n",
       "<style scoped>\n",
       "    .dataframe tbody tr th:only-of-type {\n",
       "        vertical-align: middle;\n",
       "    }\n",
       "\n",
       "    .dataframe tbody tr th {\n",
       "        vertical-align: top;\n",
       "    }\n",
       "\n",
       "    .dataframe thead th {\n",
       "        text-align: right;\n",
       "    }\n",
       "</style>\n",
       "<table border=\"1\" class=\"dataframe\">\n",
       "  <thead>\n",
       "    <tr style=\"text-align: right;\">\n",
       "      <th></th>\n",
       "      <th>OPENMINDEDNESS_Z</th>\n",
       "      <th>interview</th>\n",
       "    </tr>\n",
       "  </thead>\n",
       "  <tbody>\n",
       "    <tr>\n",
       "      <th>0</th>\n",
       "      <td>0.803353</td>\n",
       "      <td>0.663850</td>\n",
       "    </tr>\n",
       "    <tr>\n",
       "      <th>1</th>\n",
       "      <td>0.579418</td>\n",
       "      <td>0.542551</td>\n",
       "    </tr>\n",
       "    <tr>\n",
       "      <th>2</th>\n",
       "      <td>0.530764</td>\n",
       "      <td>0.379248</td>\n",
       "    </tr>\n",
       "    <tr>\n",
       "      <th>3</th>\n",
       "      <td>0.651367</td>\n",
       "      <td>0.701666</td>\n",
       "    </tr>\n",
       "    <tr>\n",
       "      <th>4</th>\n",
       "      <td>0.265419</td>\n",
       "      <td>0.240185</td>\n",
       "    </tr>\n",
       "  </tbody>\n",
       "</table>\n",
       "</div>"
      ],
      "text/plain": [
       "   OPENMINDEDNESS_Z  interview\n",
       "0          0.803353   0.663850\n",
       "1          0.579418   0.542551\n",
       "2          0.530764   0.379248\n",
       "3          0.651367   0.701666\n",
       "4          0.265419   0.240185"
      ]
     },
     "execution_count": 44,
     "metadata": {},
     "output_type": "execute_result"
    }
   ],
   "source": [
    "pred.head()"
   ]
  },
  {
   "cell_type": "code",
   "execution_count": 45,
   "metadata": {},
   "outputs": [],
   "source": []
  },
  {
   "cell_type": "code",
   "execution_count": 46,
   "metadata": {},
   "outputs": [
    {
     "data": {
      "text/html": [
       "<div>\n",
       "<style scoped>\n",
       "    .dataframe tbody tr th:only-of-type {\n",
       "        vertical-align: middle;\n",
       "    }\n",
       "\n",
       "    .dataframe tbody tr th {\n",
       "        vertical-align: top;\n",
       "    }\n",
       "\n",
       "    .dataframe thead th {\n",
       "        text-align: right;\n",
       "    }\n",
       "</style>\n",
       "<table border=\"1\" class=\"dataframe\">\n",
       "  <thead>\n",
       "    <tr style=\"text-align: right;\">\n",
       "      <th></th>\n",
       "      <th>OPENMINDEDNESS_Z</th>\n",
       "      <th>interview</th>\n",
       "    </tr>\n",
       "  </thead>\n",
       "  <tbody>\n",
       "    <tr>\n",
       "      <th>0</th>\n",
       "      <td>0.844444</td>\n",
       "      <td>0.747664</td>\n",
       "    </tr>\n",
       "    <tr>\n",
       "      <th>1</th>\n",
       "      <td>0.388889</td>\n",
       "      <td>0.280374</td>\n",
       "    </tr>\n",
       "    <tr>\n",
       "      <th>2</th>\n",
       "      <td>0.155556</td>\n",
       "      <td>0.158879</td>\n",
       "    </tr>\n",
       "    <tr>\n",
       "      <th>3</th>\n",
       "      <td>0.522222</td>\n",
       "      <td>0.448598</td>\n",
       "    </tr>\n",
       "    <tr>\n",
       "      <th>4</th>\n",
       "      <td>0.311111</td>\n",
       "      <td>0.233645</td>\n",
       "    </tr>\n",
       "  </tbody>\n",
       "</table>\n",
       "</div>"
      ],
      "text/plain": [
       "   OPENMINDEDNESS_Z  interview\n",
       "0          0.844444   0.747664\n",
       "1          0.388889   0.280374\n",
       "2          0.155556   0.158879\n",
       "3          0.522222   0.448598\n",
       "4          0.311111   0.233645"
      ]
     },
     "execution_count": 46,
     "metadata": {},
     "output_type": "execute_result"
    }
   ],
   "source": [
    "ground.head()"
   ]
  },
  {
   "cell_type": "code",
   "execution_count": 51,
   "metadata": {},
   "outputs": [
    {
     "data": {
      "text/plain": [
       "0.02984798336186897"
      ]
     },
     "execution_count": 51,
     "metadata": {},
     "output_type": "execute_result"
    }
   ],
   "source": [
    "sub = ground.subtract(pred)\n",
    "df = sub.mul(sub)\n",
    "df = df.mean(axis = 1)\n",
    "df.mean()"
   ]
  },
  {
   "cell_type": "code",
   "execution_count": null,
   "metadata": {},
   "outputs": [],
   "source": []
  }
 ],
 "metadata": {
  "kernelspec": {
   "display_name": "Python 3",
   "language": "python",
   "name": "python3"
  },
  "language_info": {
   "codemirror_mode": {
    "name": "ipython",
    "version": 3
   },
   "file_extension": ".py",
   "mimetype": "text/x-python",
   "name": "python",
   "nbconvert_exporter": "python",
   "pygments_lexer": "ipython3",
   "version": "3.11.0"
  },
  "orig_nbformat": 4
 },
 "nbformat": 4,
 "nbformat_minor": 2
}
