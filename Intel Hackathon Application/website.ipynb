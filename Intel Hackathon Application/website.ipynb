{
 "cells": [
  {
   "cell_type": "code",
   "execution_count": null,
   "metadata": {},
   "outputs": [],
   "source": [
    "from flask import Flask, render_template, request\n",
    "import cv2\n",
    "import os, sys\n",
    "sys.path.append('./Extracting_Features')\n",
    "sys.path.append('./oneAPI_Tensorflow')\n",
    "from Extract_All_Data import get_training_file\n",
    "from training_prediction import predict_single_video, training\n",
    "from get_accuracy import process_files, append_interview_value\n",
    "app = Flask(__name__)"
   ]
  },
  {
   "cell_type": "code",
   "execution_count": null,
   "metadata": {},
   "outputs": [],
   "source": [
    "@app.route('/')\n",
    "def home():\n",
    "    print(\"running\")\n",
    "    return render_template('./index.html')\n",
    "\n",
    "@app.route('/process_video', methods=['POST'])\n",
    "def process_video():\n",
    "    # Get the uploaded video file from the form data\n",
    "    video_file = request.files['video']\n",
    "    video_path = './video/'+video_file.filename\n",
    "    # Read the video file using OpenCV\n",
    "    cap = cv2.VideoCapture(video_path)\n",
    "    video_name = video_path.split('/')[-1].split('.')[0]\n",
    "    data = get_training_file(video_path)\n",
    "\n",
    "    # %%\n",
    "    print(predict_single_video(data, video_name))\n",
    "\n",
    "    pred, interview = process_files()\n",
    "    final_pred = append_interview_value(interview, pred)\n",
    "    # print(final_pred.head())\n",
    "    front_end_data = final_pred.to_dict()\n",
    "    print(front_end_data)\n",
    "    # Get the total number of frames in the video\n",
    "    total_frames = int(cap.get(cv2.CAP_PROP_FRAME_COUNT))\n",
    "\n",
    "    # Get the frame rate of the video\n",
    "    fps = int(cap.get(cv2.CAP_PROP_FPS))\n",
    "\n",
    "    # Get the width and height of the video frame\n",
    "    width = int(cap.get(cv2.CAP_PROP_FRAME_WIDTH))\n",
    "    height = int(cap.get(cv2.CAP_PROP_FRAME_HEIGHT))\n",
    "\n",
    "    # Get the duration of the video\n",
    "    duration = total_frames / fps\n",
    "\n",
    "    # Get the bitrate of the video\n",
    "    bitrate = int(cap.get(cv2.CAP_PROP_BITRATE))\n",
    "\n",
    "    # Release the video capture object\n",
    "    cap.release()\n",
    "\n",
    "    # Return the results as a dictionary\n",
    "    results = {\n",
    "        'AGREEABLENESS_Z':  front_end_data['AGREEABLENESS_Z'][0],\n",
    "        'CONSCIENTIOUSNESS_Z': front_end_data['CONSCIENTIOUSNESS_Z'][0],\n",
    "        'EXTRAVERSION_Z': front_end_data['EXTRAVERSION_Z'][0],\n",
    "        'NEGATIVEEMOTIONALITY_Z': front_end_data['NEGATIVEEMOTIONALITY_Z'][0],\n",
    "        'OPENMINDEDNESS_Z': front_end_data['OPENMINDEDNESS_Z'][0],\n",
    "        'interview': front_end_data['interview'][0]\n",
    "    }\n",
    "\n",
    "    return render_template('result.html', results=results)"
   ]
  },
  {
   "cell_type": "code",
   "execution_count": null,
   "metadata": {},
   "outputs": [],
   "source": [
    "app.run(debug=True)"
   ]
  }
 ],
 "metadata": {
  "language_info": {
   "name": "python"
  },
  "orig_nbformat": 4
 },
 "nbformat": 4,
 "nbformat_minor": 2
}
